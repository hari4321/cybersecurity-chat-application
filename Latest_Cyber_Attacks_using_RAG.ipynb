{
  "nbformat": 4,
  "nbformat_minor": 0,
  "metadata": {
    "colab": {
      "provenance": []
    },
    "kernelspec": {
      "name": "python3",
      "display_name": "Python 3"
    },
    "language_info": {
      "name": "python"
    }
  },
  "cells": [
    {
      "cell_type": "markdown",
      "source": [
        "# Building a RAG model for retriving information regarding latest cyber attacks"
      ],
      "metadata": {
        "id": "ZJu8kaSE-PxO"
      }
    },
    {
      "cell_type": "markdown",
      "source": [
        "This project leverages NLP and machine learning for intelligent search and conversation. Cohere's Embed API converts text to embeddings, capturing semantic meaning. The Chat API enables natural language interaction. FAISS library efficiently searches embeddings for relevant information. Built on LangChain for scalability and efficiency. Enhances search capabilities, provides intuitive user experience."
      ],
      "metadata": {
        "id": "clkEpQApAygh"
      }
    },
    {
      "cell_type": "markdown",
      "source": [
        "### Saving the api key"
      ],
      "metadata": {
        "id": "2BtdfZDf-o22"
      }
    },
    {
      "cell_type": "markdown",
      "source": [
        "Add your API Key"
      ],
      "metadata": {
        "id": "grwQfSdDyjUS"
      }
    },
    {
      "cell_type": "code",
      "source": [
        "import os\n",
        "\n",
        "os.environ[\"COHERE_API_KEY\"] = \"\""
      ],
      "metadata": {
        "id": "WYIYgQXL-NVG"
      },
      "execution_count": null,
      "outputs": []
    },
    {
      "cell_type": "markdown",
      "source": [
        "### Install dependencies"
      ],
      "metadata": {
        "id": "s2hVpHO--x8Q"
      }
    },
    {
      "cell_type": "code",
      "source": [
        "pip install --quiet langchain_community faiss-cpu tiktoken langchain-cohere"
      ],
      "metadata": {
        "colab": {
          "base_uri": "https://localhost:8080/"
        },
        "id": "eLuCjc2w-ud9",
        "outputId": "e15c0e3f-cf3f-481f-93db-726ec4bcf2a1"
      },
      "execution_count": null,
      "outputs": [
        {
          "output_type": "stream",
          "name": "stdout",
          "text": [
            "\u001b[2K     \u001b[90m━━━━━━━━━━━━━━━━━━━━━━━━━━━━━━━━━━━━━━━━\u001b[0m \u001b[32m2.2/2.2 MB\u001b[0m \u001b[31m14.8 MB/s\u001b[0m eta \u001b[36m0:00:00\u001b[0m\n",
            "\u001b[2K     \u001b[90m━━━━━━━━━━━━━━━━━━━━━━━━━━━━━━━━━━━━━━━━\u001b[0m \u001b[32m27.0/27.0 MB\u001b[0m \u001b[31m42.4 MB/s\u001b[0m eta \u001b[36m0:00:00\u001b[0m\n",
            "\u001b[2K     \u001b[90m━━━━━━━━━━━━━━━━━━━━━━━━━━━━━━━━━━━━━━━━\u001b[0m \u001b[32m1.1/1.1 MB\u001b[0m \u001b[31m52.6 MB/s\u001b[0m eta \u001b[36m0:00:00\u001b[0m\n",
            "\u001b[2K     \u001b[90m━━━━━━━━━━━━━━━━━━━━━━━━━━━━━━━━━━━━━━━━\u001b[0m \u001b[32m974.6/974.6 kB\u001b[0m \u001b[31m59.7 MB/s\u001b[0m eta \u001b[36m0:00:00\u001b[0m\n",
            "\u001b[2K     \u001b[90m━━━━━━━━━━━━━━━━━━━━━━━━━━━━━━━━━━━━━━━━\u001b[0m \u001b[32m315.6/315.6 kB\u001b[0m \u001b[31m26.2 MB/s\u001b[0m eta \u001b[36m0:00:00\u001b[0m\n",
            "\u001b[2K     \u001b[90m━━━━━━━━━━━━━━━━━━━━━━━━━━━━━━━━━━━━━━━━\u001b[0m \u001b[32m125.2/125.2 kB\u001b[0m \u001b[31m14.5 MB/s\u001b[0m eta \u001b[36m0:00:00\u001b[0m\n",
            "\u001b[2K     \u001b[90m━━━━━━━━━━━━━━━━━━━━━━━━━━━━━━━━━━━━━━━━\u001b[0m \u001b[32m173.8/173.8 kB\u001b[0m \u001b[31m17.8 MB/s\u001b[0m eta \u001b[36m0:00:00\u001b[0m\n",
            "\u001b[2K     \u001b[90m━━━━━━━━━━━━━━━━━━━━━━━━━━━━━━━━━━━━━━━━\u001b[0m \u001b[32m139.2/139.2 kB\u001b[0m \u001b[31m13.3 MB/s\u001b[0m eta \u001b[36m0:00:00\u001b[0m\n",
            "\u001b[2K     \u001b[90m━━━━━━━━━━━━━━━━━━━━━━━━━━━━━━━━━━━━━━━━\u001b[0m \u001b[32m3.1/3.1 MB\u001b[0m \u001b[31m78.5 MB/s\u001b[0m eta \u001b[36m0:00:00\u001b[0m\n",
            "\u001b[2K     \u001b[90m━━━━━━━━━━━━━━━━━━━━━━━━━━━━━━━━━━━━━━━━\u001b[0m \u001b[32m75.6/75.6 kB\u001b[0m \u001b[31m8.2 MB/s\u001b[0m eta \u001b[36m0:00:00\u001b[0m\n",
            "\u001b[2K     \u001b[90m━━━━━━━━━━━━━━━━━━━━━━━━━━━━━━━━━━━━━━━━\u001b[0m \u001b[32m49.2/49.2 kB\u001b[0m \u001b[31m5.1 MB/s\u001b[0m eta \u001b[36m0:00:00\u001b[0m\n",
            "\u001b[2K     \u001b[90m━━━━━━━━━━━━━━━━━━━━━━━━━━━━━━━━━━━━━━━━\u001b[0m \u001b[32m145.0/145.0 kB\u001b[0m \u001b[31m14.1 MB/s\u001b[0m eta \u001b[36m0:00:00\u001b[0m\n",
            "\u001b[2K     \u001b[90m━━━━━━━━━━━━━━━━━━━━━━━━━━━━━━━━━━━━━━━━\u001b[0m \u001b[32m12.3/12.3 MB\u001b[0m \u001b[31m53.8 MB/s\u001b[0m eta \u001b[36m0:00:00\u001b[0m\n",
            "\u001b[2K     \u001b[90m━━━━━━━━━━━━━━━━━━━━━━━━━━━━━━━━━━━━━━━━\u001b[0m \u001b[32m82.2/82.2 kB\u001b[0m \u001b[31m8.7 MB/s\u001b[0m eta \u001b[36m0:00:00\u001b[0m\n",
            "\u001b[2K     \u001b[90m━━━━━━━━━━━━━━━━━━━━━━━━━━━━━━━━━━━━━━━━\u001b[0m \u001b[32m77.9/77.9 kB\u001b[0m \u001b[31m9.4 MB/s\u001b[0m eta \u001b[36m0:00:00\u001b[0m\n",
            "\u001b[2K     \u001b[90m━━━━━━━━━━━━━━━━━━━━━━━━━━━━━━━━━━━━━━━━\u001b[0m \u001b[32m58.3/58.3 kB\u001b[0m \u001b[31m7.0 MB/s\u001b[0m eta \u001b[36m0:00:00\u001b[0m\n",
            "\u001b[?25h"
          ]
        }
      ]
    },
    {
      "cell_type": "code",
      "source": [
        "from langchain.text_splitter import RecursiveCharacterTextSplitter\n",
        "from langchain_cohere import CohereEmbeddings\n",
        "from langchain_community.document_loaders import WebBaseLoader\n",
        "\n",
        "embd = CohereEmbeddings()\n",
        "\n",
        "urls = [\n",
        "    \"https://www.fortinet.com/resources/cyberglossary/types-of-cyber-attacks\",\n",
        "    \"https://www.crowdstrike.com/cybersecurity-101/cyberattacks/most-common-types-of-cyberattacks/\"\n",
        "]\n",
        "\n",
        "docs = [WebBaseLoader(url).load() for url in urls]\n",
        "docs_list = [item for sublist in docs for item in sublist]\n",
        "\n",
        "text_splitter = RecursiveCharacterTextSplitter.from_tiktoken_encoder(\n",
        "    chunk_size=512, chunk_overlap=0\n",
        ")\n",
        "doc_splits = text_splitter.split_documents(docs_list)"
      ],
      "metadata": {
        "colab": {
          "base_uri": "https://localhost:8080/"
        },
        "id": "8aDEYv3i-2rY",
        "outputId": "a2c11813-283e-470e-de22-ba1bc2cb5cea"
      },
      "execution_count": null,
      "outputs": [
        {
          "output_type": "stream",
          "name": "stderr",
          "text": [
            "WARNING:langchain_community.utils.user_agent:USER_AGENT environment variable not set, consider setting it to identify your requests.\n"
          ]
        }
      ]
    },
    {
      "cell_type": "markdown",
      "source": [
        "### Storing in Vector"
      ],
      "metadata": {
        "id": "SXHda-eo-_3J"
      }
    },
    {
      "cell_type": "code",
      "source": [
        "from langchain_community.vectorstores import FAISS\n",
        "\n",
        "vectorstore = FAISS.from_documents(\n",
        "    documents=doc_splits,\n",
        "    embedding=embd,\n",
        ")\n",
        "\n",
        "vectorstore_retriever = vectorstore.as_retriever()"
      ],
      "metadata": {
        "id": "_DcypfAd-5uv"
      },
      "execution_count": null,
      "outputs": []
    },
    {
      "cell_type": "markdown",
      "source": [
        "Creating a retiver to retrive information from vector database"
      ],
      "metadata": {
        "id": "nzQsMQg7_0WX"
      }
    },
    {
      "cell_type": "code",
      "execution_count": null,
      "metadata": {
        "id": "2axqmDoP-Bau"
      },
      "outputs": [],
      "source": [
        "from langchain.tools.retriever import create_retriever_tool\n",
        "\n",
        "vectorstore_search = create_retriever_tool(\n",
        "    retriever=vectorstore_retriever,\n",
        "    name=\"vectorstore_search\",\n",
        "    description=\"Retrieve relevant info from a vectorstore that contains documents related to Cyber Attacks\",\n",
        ")"
      ]
    },
    {
      "cell_type": "markdown",
      "source": [
        "## Chat Model"
      ],
      "metadata": {
        "id": "b3kQhuQl_8eR"
      }
    },
    {
      "cell_type": "code",
      "source": [
        "from langchain.agents import AgentExecutor\n",
        "from langchain_cohere.react_multi_hop.agent import create_cohere_react_agent\n",
        "from langchain_core.prompts import ChatPromptTemplate"
      ],
      "metadata": {
        "id": "_c1vpicA_-Bj"
      },
      "execution_count": null,
      "outputs": []
    },
    {
      "cell_type": "code",
      "source": [
        "# LLM\n",
        "from langchain_cohere.chat_models import ChatCohere\n",
        "\n",
        "chat = ChatCohere(model=\"command-r-plus\", temperature=0.3)\n",
        "\n",
        "# Preamble\n",
        "preamble = \"\"\"\n",
        "You are an expert who answers the user's question with the most relevant datasource.\n",
        "You are equipped with an  a special vectorstore of information about types and common Cyber Attacks.\n",
        "If the query covers the topics of types and common Cyber Attacks use the vectorstore search.\n",
        "\"\"\"\n",
        "\n",
        "# Prompt\n",
        "prompt = ChatPromptTemplate.from_template(\"{input}\")\n",
        "\n",
        "# Create the ReAct agent\n",
        "agent = create_cohere_react_agent(\n",
        "    llm=chat,\n",
        "    tools=[vectorstore_search],\n",
        "    prompt=prompt,\n",
        ")"
      ],
      "metadata": {
        "id": "ISr4ienUAA1w"
      },
      "execution_count": null,
      "outputs": []
    },
    {
      "cell_type": "code",
      "source": [
        "agent_executor = AgentExecutor(\n",
        "    agent=agent, tools=[vectorstore_search], verbose=False\n",
        ")"
      ],
      "metadata": {
        "id": "0MOIUJR5AIkI"
      },
      "execution_count": null,
      "outputs": []
    },
    {
      "cell_type": "markdown",
      "source": [
        "### Chat with the model"
      ],
      "metadata": {
        "id": "VtZjC_iZAMHj"
      }
    },
    {
      "cell_type": "code",
      "source": [
        "response = agent_executor.invoke(\n",
        "    {\n",
        "        \"input\": \"Tell me the most common cyber attacks\",\n",
        "        \"preamble\": preamble,\n",
        "    }\n",
        ")\n",
        "print(response['output'])"
      ],
      "metadata": {
        "colab": {
          "base_uri": "https://localhost:8080/"
        },
        "id": "PumBTwDvAJjH",
        "outputId": "18356e90-d24a-4481-fd21-1455135dcaa6"
      },
      "execution_count": null,
      "outputs": [
        {
          "output_type": "stream",
          "name": "stdout",
          "text": [
            "The most common types of cyberattacks include:\n",
            "- Malware\n",
            "- Denial-of-Service (DoS) Attacks\n",
            "- Phishing\n",
            "- Spoofing\n",
            "- Identity-Based Attacks\n",
            "- Code Injection Attacks\n",
            "- Supply Chain Attacks\n",
            "- Social Engineering Attacks\n",
            "- Insider Threats\n",
            "- DNS Tunneling\n",
            "- IoT-Based Attacks\n",
            "- AI-Powered Attacks\n"
          ]
        }
      ]
    },
    {
      "cell_type": "code",
      "source": [
        "response = agent_executor.invoke(\n",
        "    {\n",
        "        \"input\": \"What are AI powerd attacks\",\n",
        "        \"preamble\": preamble,\n",
        "    }\n",
        ")\n",
        "print(response['output'])"
      ],
      "metadata": {
        "colab": {
          "base_uri": "https://localhost:8080/"
        },
        "id": "_YwJw18HARvo",
        "outputId": "ab0a7d8f-5696-4d04-9f8c-1a659950ab3d"
      },
      "execution_count": null,
      "outputs": [
        {
          "output_type": "stream",
          "name": "stdout",
          "text": [
            "AI-powered attacks are those that leverage AI and ML technology to access a network or steal sensitive information. Examples include:\n",
            "- Adversarial AI/ML: Seeks to disrupt the operations of AI and ML systems by manipulating or misleading them, often by introducing inaccuracies in training data\n",
            "- Dark AI: Specifically engineered to exploit vulnerabilities, often going unnoticed until the damage is done\n",
            "- Deepfakes: AI-generated forgeries that appear very real and have the potential to reshape public opinion, damage reputations, and sway political landscapes\n",
            "- AI-generated social engineering: Attackers create fake chatbots or virtual assistants capable of having human-like interactions and engaging in conversations with users to get them to provide sensitive information\n"
          ]
        }
      ]
    },
    {
      "cell_type": "code",
      "source": [],
      "metadata": {
        "id": "wpu7oD9_ArdY"
      },
      "execution_count": null,
      "outputs": []
    }
  ]
}